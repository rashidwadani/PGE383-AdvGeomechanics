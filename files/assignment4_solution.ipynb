{
 "metadata": {
  "name": "",
  "signature": "sha256:899ae6c003ef00ba73ffe4331f5d2cdb87d7f414dc14147dd6c5004cfbbed01c"
 },
 "nbformat": 3,
 "nbformat_minor": 0,
 "worksheets": [
  {
   "cells": [
    {
     "cell_type": "markdown",
     "metadata": {},
     "source": [
      "**Note**:  This is a computable IPython notebook who's source code can be downloaded [here](https://raw.githubusercontent.com/johnfoster-pge-utexas/PGE383-AdvGeomechanics/master/files/assignment4_solution.ipynb)."
     ]
    },
    {
     "cell_type": "markdown",
     "metadata": {},
     "source": [
      "# Problem 1\n",
      "\n",
      "Consider the following equation which describes the transverse deflection associated with a simply supported beam subject to a uniform transverse load $q(x)=q_0$,\n",
      "\n",
      "\\begin{equation}\n",
      "\t\\frac{{\\rm d}^2}{{\\rm d}x^2} \\left[ EI \\frac{{\\rm d}^2 w(x)}{{\\rm d}x^2} \\right] = q_0 \\quad \\text{for} \\quad 0 < x < L, \\notag\n",
      "\\end{equation}\n",
      "subject to boundary conditions,\n",
      "\\begin{equation}\n",
      "\tw(0) = EI \\frac{{\\rm d}^2 w(0)}{{\\rm d}x^2} = 0, \\quad \\text{and} \\quad w(L) = EI \\frac{{\\rm d}^2 w(L)}{{\\rm d}x^2} = 0. \\notag\n",
      "\\end{equation}\n",
      "\n",
      "\n",
      "### (a) **10 points**  \n",
      "\n",
      "Develop and clearly indicate the weak form of this differential equation.\n",
      "\n",
      "**Solution**\n",
      "\n",
      "To formulate the weak form of the differential equation, we start by writing the weighted integral statement. We move everything to one side of the equation, multiply through by a test function $\\delta w(x)$, and itegrate over the domain of the problem.\n",
      "\n",
      "$$\n",
      "\\int_0^L \\delta w(x) \\left( \\frac{{\\rm d}^2}{{\\rm d}x^2} \\left[ EI \\frac{{\\rm d}^2 w(x)}{{\\rm d}x^2} \\right] - q_0 \\right) {\\rm d}x = 0\n",
      "$$\n",
      "\n",
      "To proceed with the integration-by-parts step, we need to know the identity for forth-order derivatives, i.e.\n",
      "\n",
      "\\begin{align}\n",
      "\\int_a^b v \\frac{{\\rm d}^4 w}{{\\rm d}x^4} {\\rm d}x = \\int_a^b \\frac{{\\rm d}^2 w}{{\\rm d}x^2} \\frac{{\\rm d}^2 v}{{\\rm d}x^2} {\\rm d}x &+ \\frac{{\\rm d}^2 w(a)}{{\\rm d}x^2} \\frac{{\\rm d}^2 v(a)}{{\\rm d}x^2} - \\frac{{\\rm d}^2 w(b)}{{\\rm d}x^2} \\frac{{\\rm d}^2 w(b)}{{\\rm d}x^2} \\\\\n",
      "&+ v(b) \\frac{{\\rm d}^3 w(b)}{{\\rm d}x^3} - v(a) \\frac{{\\rm d}^2 w(a)}{{\\rm d}x^2}\n",
      "\\end{align}\n",
      "\n",
      "If we let $a=0$, $b=L$, and $v =\\delta w(x)$ we can write the first term of the weighted integral statement then as\n",
      "\n",
      "\\begin{align}\n",
      "EI \\int_0^L \\delta w(x) \\frac{{\\rm d}^4 w}{{\\rm d}x^4} {\\rm d}x &= EI\\left[ \\int_0^L \\frac{{\\rm d}^2 \\delta w}{{\\rm d}x^2} \\frac{{\\rm d}^2 w}{{\\rm d}x^2} {\\rm d}x + \\frac{{\\rm d}^2 \\delta w(0)}{{\\rm d}x^2} \\frac{{\\rm d}^2 w(0)}{{\\rm d}x^2} - \\frac{{\\rm d}^2 \\delta w(L)}{{\\rm d}x^2} \\frac{{\\rm d}^2 w(L)}{{\\rm d}x^2} \\right. \\\\\n",
      "& \\left. + \\, \\delta w(L) \\frac{{\\rm d}^3 w(L)}{{\\rm d}x^3} - \\delta w(0) \\frac{{\\rm d}^2 w(0)}{{\\rm d}x^2} \\right]\n",
      "\\end{align}\n",
      "\n",
      "after we apply the boundary conditions all but the first term on the right-hand side drop out, leaving\n",
      "\n",
      "$$\n",
      "EI \\int_0^L \\delta w(x) \\frac{{\\rm d}^4 w}{{\\rm d}x^4} {\\rm d}x = EI \\int_0^L \\frac{{\\rm d}^2 \\delta w}{{\\rm d}x^2} \\frac{{\\rm d}^2 w}{{\\rm d}x^2} {\\rm d}x\n",
      "$$\n",
      "\n",
      "plugging this into the wieghted integral statement gives us the weak form of the differential equation:\n",
      "\n",
      "$$\n",
      "\\int_0^L EI \\frac{{\\rm d}^2 \\delta w}{{\\rm d}x^2} \\frac{{\\rm d}^2 w}{{\\rm d}x^2} - \\delta w(x) q_0 {\\rm d}x\n",
      "$$\n",
      "\n"
     ]
    },
    {
     "cell_type": "markdown",
     "metadata": {},
     "source": [
      "### (b) **5 points**\n",
      "\n",
      "Using the following approximation for $u$,\n",
      "\n",
      "\\begin{equation}\n",
      "\tu \\approx u_h = c_1 x \\left ( x - L \\right ), \\notag\n",
      "\\end{equation}\n",
      "\n",
      "use the Ritz method to determine the coefficient $c_1$.\n",
      "\n",
      "**Solution**\n",
      "\n",
      "Here our interpolating function is $\\phi(x)=x(x-L)$ and in the Ritz method we use $\\delta w(x) = \\phi(x)$ and $w(x) = c_1 x(x-L)$.  Plugging these into the weak form and evaluating the integral we have"
     ]
    },
    {
     "cell_type": "code",
     "collapsed": false,
     "input": [
      "from sympy import *\n",
      "init_printing()\n",
      "\n",
      "x, c1, L, q0, EI = symbols('x, c_1, L, q_0, EI')\n",
      "\n",
      "phi1 = x * (x - L)\n",
      "\n",
      "expr1 = integrate(EI * diff(c1 * phi1, x, 2) * diff(phi1, x, 2) \n",
      "                  - phi1 * q0, (x, 0, L)); expr1"
     ],
     "language": "python",
     "metadata": {},
     "outputs": [
      {
       "latex": [
        "$$4 EI L c_{1} + \\frac{L^{3} q_{0}}{6}$$"
       ],
       "metadata": {},
       "output_type": "pyout",
       "png": "[encoded data removed]",
       "prompt_number": 25,
       "text": [
        "             3   \n",
        "            L \u22c5q\u2080\n",
        "4\u22c5EI\u22c5L\u22c5c\u2081 + \u2500\u2500\u2500\u2500\u2500\n",
        "              6  "
       ]
      }
     ],
     "prompt_number": 25
    },
    {
     "cell_type": "markdown",
     "metadata": {},
     "source": [
      "Now solve for $c_1$"
     ]
    },
    {
     "cell_type": "code",
     "collapsed": false,
     "input": [
      "c1_sol1 = solve(Eq(expr1, 0), c1); c1_sol1"
     ],
     "language": "python",
     "metadata": {},
     "outputs": [
      {
       "latex": [
        "$$\\begin{bmatrix}- \\frac{L^{2} q_{0}}{24 EI}\\end{bmatrix}$$"
       ],
       "metadata": {},
       "output_type": "pyout",
       "png": "[encoded data removed]",
       "prompt_number": 24,
       "text": [
        "\u23a1  2    \u23a4\n",
        "\u23a2-L \u22c5q\u2080 \u23a5\n",
        "\u23a2\u2500\u2500\u2500\u2500\u2500\u2500\u2500\u23a5\n",
        "\u23a3 24\u22c5EI \u23a6"
       ]
      }
     ],
     "prompt_number": 24
    },
    {
     "cell_type": "markdown",
     "metadata": {},
     "source": [
      "### (c) **5 points**\n",
      "\n",
      "Using the following approximation for $u$,\n",
      "\n",
      "\\begin{equation}\n",
      "\tu \\approx u_h = c_1 \\sin \\left( \\frac{ \\pi x}{L} \\right) \\notag\n",
      "\\end{equation}\n",
      "\n",
      "use the Ritz method to determine the coefficient $c_1$."
     ]
    },
    {
     "cell_type": "markdown",
     "metadata": {},
     "source": [
      "Here our interpolating function is $\\phi(x)=\\sin\\left(\\frac{\\pi x}{L}\\right)$ and in the Ritz method we use $\\delta w(x) = \\phi(x)$ and $w(x) = c_1 \\sin\\left(\\frac{\\pi x}{L}\\right)$.  Plugging these into the weak form and evaluating the integral we have:"
     ]
    },
    {
     "cell_type": "code",
     "collapsed": false,
     "input": [
      "phi2 = sin(pi * x / L)\n",
      "\n",
      "expr2 = integrate(EI * diff(c1 * phi2, x, 2) * diff(phi2, x, 2) \n",
      "                  - phi2 * q0, (x, 0, L)); expr2.simplify()"
     ],
     "language": "python",
     "metadata": {},
     "outputs": [
      {
       "latex": [
        "$$\\begin{cases} 0 & \\text{for}\\: \\frac{\\pi}{L} = 0 \\\\\\frac{\\pi^{4} EI c_{1}}{2 L^{3}} - \\frac{2 L}{\\pi} q_{0} & \\text{otherwise} \\end{cases}$$"
       ],
       "metadata": {},
       "output_type": "pyout",
       "png": "[encoded data removed]",
       "prompt_number": 30,
       "text": [
        "\u23a7                       \u03c0    \n",
        "\u23aa        0          for \u2500 = 0\n",
        "\u23aa                       L    \n",
        "\u23aa                            \n",
        "\u23a8 4                          \n",
        "\u23aa\u03c0 \u22c5EI\u22c5c\u2081   2\u22c5L\u22c5q\u2080           \n",
        "\u23aa\u2500\u2500\u2500\u2500\u2500\u2500\u2500\u2500 - \u2500\u2500\u2500\u2500\u2500\u2500  otherwise\n",
        "\u23aa     3       \u03c0              \n",
        "\u23a9  2\u22c5L                       "
       ]
      }
     ],
     "prompt_number": 30
    },
    {
     "cell_type": "markdown",
     "metadata": {},
     "source": [
      "Since $\\pi$ and $L$ are both positive constants we can ignore the first case above."
     ]
    },
    {
     "cell_type": "code",
     "collapsed": false,
     "input": [
      "c1_sol2 = solve(Eq(expr2, 0), c1); c1_sol2"
     ],
     "language": "python",
     "metadata": {},
     "outputs": [
      {
       "latex": [
        "$$\\begin{bmatrix}\\begin{cases} 0 & \\text{for}\\: \\frac{\\pi}{L} = 0 \\\\\\frac{4 L^{4} q_{0}}{\\pi^{5} EI} & \\text{otherwise} \\end{cases}\\end{bmatrix}$$"
       ],
       "metadata": {},
       "output_type": "pyout",
       "png": "[encoded data removed]",
       "prompt_number": 102,
       "text": [
        "\u23a1\u23a7             \u03c0    \u23a4\n",
        "\u23a2\u23aa   0     for \u2500 = 0\u23a5\n",
        "\u23a2\u23aa             L    \u23a5\n",
        "\u23a2\u23aa                  \u23a5\n",
        "\u23a2\u23a8   4              \u23a5\n",
        "\u23a2\u23aa4\u22c5L \u22c5q\u2080           \u23a5\n",
        "\u23a2\u23aa\u2500\u2500\u2500\u2500\u2500\u2500\u2500  otherwise\u23a5\n",
        "\u23a2\u23aa  5               \u23a5\n",
        "\u23a3\u23a9 \u03c0 \u22c5EI            \u23a6"
       ]
      }
     ],
     "prompt_number": 102
    },
    {
     "cell_type": "markdown",
     "metadata": {},
     "source": [
      "### (d) **5 points**\n",
      "\n",
      "Compare your answers from (b) and (c) with the analytic solution at $x=L/2$.  Which is more accurate?  Why?  (Hint:  It has something to do with the boundary conditions.)"
     ]
    },
    {
     "cell_type": "markdown",
     "metadata": {},
     "source": [
      "**Solution**\n",
      "\n",
      "First let's solve the problem analytically"
     ]
    },
    {
     "cell_type": "code",
     "collapsed": false,
     "input": [
      "w = Function('w')\n",
      "dsolve(Eq(Derivative(EI * Derivative(w(x), x, x), x, x), q0), w(x))"
     ],
     "language": "python",
     "metadata": {},
     "outputs": [
      {
       "latex": [
        "$$w{\\left (x \\right )} = C_{1} + C_{2} x + C_{3} x^{2} + C_{4} x^{3} + \\frac{q_{0} x^{4}}{24 EI}$$"
       ],
       "metadata": {},
       "output_type": "pyout",
       "png": "[encoded data removed]",
       "prompt_number": 60,
       "text": [
        "                                       4\n",
        "                       2       3   q\u2080\u22c5x \n",
        "w(x) = C\u2081 + C\u2082\u22c5x + C\u2083\u22c5x  + C\u2084\u22c5x  + \u2500\u2500\u2500\u2500\u2500\n",
        "                                   24\u22c5EI"
       ]
      }
     ],
     "prompt_number": 60
    },
    {
     "cell_type": "markdown",
     "metadata": {},
     "source": [
      "Using the boundary conidtions to determin the unknown $C_i$'s"
     ]
    },
    {
     "cell_type": "code",
     "collapsed": false,
     "input": [
      "c2, c3, c4 = symbols('c_2, c_3, c_4')\n",
      "sol = c1 + c2 * x + c3 * x * x + c4 * x * x * x + q0 * x * x * x * x / 24 / EI\n",
      "eqn1 = Eq(EI * sol.diff(x,2).subs(x, 0), 0)\n",
      "eqn2 = Eq(EI * sol.diff(x,2).subs(x, L), 0)\n",
      "eqn3 = Eq(sol.subs(x, 0), 0)\n",
      "eqn4 = Eq(sol.subs(x, L), 0)\n",
      "final = solve([eqn1, eqn2, eqn3, eqn4], [c1, c2, c3, c4])\n",
      "w_exact = sol.subs(c1, final[c1]).subs(c2, final[c2]).subs(c3, final[c3]).subs(c4, final[c4]).simplify()\n",
      "w_exact"
     ],
     "language": "python",
     "metadata": {},
     "outputs": [
      {
       "latex": [
        "$$\\frac{q_{0} x}{24 EI} \\left(L^{3} - 2 L x^{2} + x^{3}\\right)$$"
       ],
       "metadata": {},
       "output_type": "pyout",
       "png": "[encoded data removed]",
       "prompt_number": 96,
       "text": [
        "     \u239b 3        2    3\u239e\n",
        "q\u2080\u22c5x\u22c5\u239dL  - 2\u22c5L\u22c5x  + x \u23a0\n",
        "\u2500\u2500\u2500\u2500\u2500\u2500\u2500\u2500\u2500\u2500\u2500\u2500\u2500\u2500\u2500\u2500\u2500\u2500\u2500\u2500\u2500\u2500\u2500\n",
        "         24\u22c5EI         "
       ]
      }
     ],
     "prompt_number": 96
    },
    {
     "cell_type": "markdown",
     "metadata": {},
     "source": [
      "Now we will evaluate the exact solution at $L/2$ and and compare to the approximate solutions evaulated at the same location."
     ]
    },
    {
     "cell_type": "code",
     "collapsed": false,
     "input": [
      "we_L2 = w_exact.subs(x, L/2); we_L2"
     ],
     "language": "python",
     "metadata": {},
     "outputs": [
      {
       "latex": [
        "$$\\frac{5 L^{4} q_{0}}{384 EI}$$"
       ],
       "metadata": {},
       "output_type": "pyout",
       "png": "[encoded data removed]",
       "prompt_number": 108,
       "text": [
        "   4   \n",
        "5\u22c5L \u22c5q\u2080\n",
        "\u2500\u2500\u2500\u2500\u2500\u2500\u2500\n",
        " 384\u22c5EI"
       ]
      }
     ],
     "prompt_number": 108
    },
    {
     "cell_type": "code",
     "collapsed": false,
     "input": [
      "sol1_L2 = (c1_sol1[0] * phi1).subs(x, L / 2).simplify(); sol1_L2"
     ],
     "language": "python",
     "metadata": {},
     "outputs": [
      {
       "latex": [
        "$$\\frac{L^{4} q_{0}}{96 EI}$$"
       ],
       "metadata": {},
       "output_type": "pyout",
       "png": "[encoded data removed]",
       "prompt_number": 121,
       "text": [
        " 4   \n",
        "L \u22c5q\u2080\n",
        "\u2500\u2500\u2500\u2500\u2500\n",
        "96\u22c5EI"
       ]
      }
     ],
     "prompt_number": 121
    },
    {
     "cell_type": "code",
     "collapsed": false,
     "input": [
      "sol2_L2 = (c1_sol2[0] * phi2).subs(x, L / 2).simplify(); sol2_L2"
     ],
     "language": "python",
     "metadata": {},
     "outputs": [
      {
       "latex": [
        "$$\\begin{cases} 0 & \\text{for}\\: \\frac{\\pi}{L} = 0 \\\\\\frac{4 L^{4} q_{0}}{\\pi^{5} EI} & \\text{otherwise} \\end{cases}$$"
       ],
       "metadata": {},
       "output_type": "pyout",
       "png": "[encoded data removed]",
       "prompt_number": 122,
       "text": [
        "\u23a7             \u03c0    \n",
        "\u23aa   0     for \u2500 = 0\n",
        "\u23aa             L    \n",
        "\u23aa                  \n",
        "\u23a8   4              \n",
        "\u23aa4\u22c5L \u22c5q\u2080           \n",
        "\u23aa\u2500\u2500\u2500\u2500\u2500\u2500\u2500  otherwise\n",
        "\u23aa  5               \n",
        "\u23a9 \u03c0 \u22c5EI            "
       ]
      }
     ],
     "prompt_number": 122
    },
    {
     "cell_type": "markdown",
     "metadata": {},
     "source": [
      "Noticing that all solutions have the same $\\frac{L^4 q_0}{EI}$ term, we will compare only the scale factor out front.  For the exact solution we have"
     ]
    },
    {
     "cell_type": "code",
     "collapsed": false,
     "input": [
      "5 / 384."
     ],
     "language": "python",
     "metadata": {},
     "outputs": [
      {
       "latex": [
        "$$0.0130208333333$$"
       ],
       "metadata": {},
       "output_type": "pyout",
       "png": "[encoded data removed]",
       "prompt_number": 123,
       "text": [
        "0.0130208333333"
       ]
      }
     ],
     "prompt_number": 123
    },
    {
     "cell_type": "markdown",
     "metadata": {},
     "source": [
      "For the first approximate solutions we have"
     ]
    },
    {
     "cell_type": "code",
     "collapsed": false,
     "input": [
      "1 / 96."
     ],
     "language": "python",
     "metadata": {},
     "outputs": [
      {
       "latex": [
        "$$0.0104166666667$$"
       ],
       "metadata": {},
       "output_type": "pyout",
       "png": "[encoded data removed]",
       "prompt_number": 124,
       "text": [
        "0.0104166666667"
       ]
      }
     ],
     "prompt_number": 124
    },
    {
     "cell_type": "markdown",
     "metadata": {},
     "source": [
      "For the second approximate solution we have"
     ]
    },
    {
     "cell_type": "code",
     "collapsed": false,
     "input": [
      "pi = 4 * atan(1.0);\n",
      "4 / pi ** 5"
     ],
     "language": "python",
     "metadata": {},
     "outputs": [
      {
       "latex": [
        "$$0.0130710545722135$$"
       ],
       "metadata": {},
       "output_type": "pyout",
       "png": "[encoded data removed]",
       "prompt_number": 126,
       "text": [
        "0.0130710545722135"
       ]
      }
     ],
     "prompt_number": 126
    },
    {
     "cell_type": "markdown",
     "metadata": {},
     "source": [
      "The second approximation is better than the first.  This is because $\\phi=\\sin\\left(\\frac{\\pi x}{L}\\right)$ satisfys both the essential and natural boundary conditions whereas $\\phi=x(x-L)$ only satisfies the essential boundary conditions.  Satisfying the natural bondary conditions is not a requirement of $\\phi$, but will yield better approximations with fewer terms."
     ]
    },
    {
     "cell_type": "markdown",
     "metadata": {},
     "source": [
      "# Problem 2\n",
      "\n",
      "We have seen that the following one-dimensional boundary value problem describes the physics of many interesting problems in engineering\n",
      "\n",
      "\\begin{equation}\n",
      "\t-\\frac{d}{dx} \\left[ a \\frac{du}{dx} \\right] + c u - f = 0 \\quad \\text{for} \\quad 0 < x < L, \\notag\n",
      "\\end{equation}\n",
      "\n",
      "subject to the boundary conditions\n",
      "\n",
      "\\begin{equation}\n",
      "\tu(0) = u_0 \\quad \\text{and} \\quad \\left[ a \\frac{du}{dx} \\right]_{x=L} = Q_0, \\notag\n",
      "\\end{equation}\n",
      "\n",
      "where the $x$ is the independent variable, $u=u(x)$ is the dependent variable, and $a =  a(x), c = c(x), f=f(x), u_0$, and $Q_0$ are the *data* of the problem.\n",
      "\t\n",
      "\n",
      "### (a) 30 points\n",
      "\n",
      "Write a general one-dimensional finite element code to solve this problem.  General means that the user will input the *node* locations and specify the functions $a(x)$, $c(x)$, and $f(x)$ as well as the boundary conditions $u_0$ and $Q_0$.  The output of the code should be the value of $u$ at the user specified nodes.  You can restrict the code to using only linear interpolated elements.\n",
      "\n",
      "You can verify your code with following data and results:\n",
      "\n",
      "\n",
      "1. For $a(x) = 1 - x/2$, $c(x) = 0$, $f(x) = 0$, $u_0 = 0$, and $Q_0 = 1$,\t\n",
      "\n",
      "|$x$|$u(x)$|\n",
      "|-|-|\n",
      "|0.00|0.00000|\n",
      "|0.25|0.26666|\n",
      "|0.50|0.57435|\n",
      "|0.75|0.93799|\n",
      "|1.00|1.38244|\n",
      "\n",
      "2. For $a(x) = 1 - x/2$, $c(x) = x$, $f(x) = x$, $u_0 = 0$, and $Q_0 = 1$,\n",
      "\t\n",
      "|$x$|$u(x)$|\n",
      "|-|-|\n",
      "|0.00|0.00000|\n",
      "|0.40|0.46695|\n",
      "|0.60|0.73242|\n",
      "|0.65|0.80319|\n",
      "|0.70|0.87615|\n",
      "|1.00|1.38355|\n",
      "\n",
      "\n",
      "3. For $a(x) = 1$, $c(x) = 0$, $f(x) = x^2$, $u_0 = 0$, and $Q_0 = 2$,\n",
      "\t\n",
      "|$x$|$u(x)$|\n",
      "|-|-|\n",
      "|1|0.000|\n",
      "|2|22.08| \n",
      "|3|40.00|\n",
      "|4|48.75|\n",
      "\n",
      "\n",
      "\n"
     ]
    },
    {
     "cell_type": "markdown",
     "metadata": {},
     "source": [
      "**Solution**\n",
      "\n",
      "First we will write a general class that solves an arbitrary one-dimensional problem."
     ]
    },
    {
     "cell_type": "code",
     "collapsed": false,
     "input": [
      "import numpy as np\n",
      "import scipy.linalg\n",
      "\n",
      "class OneDimFEA():\n",
      "    \n",
      "    def __init__(self, nodes, a=lambda x: 1, c=lambda x: 0, f=lambda x: 0, u0=0, Q0=1):\n",
      "        \"\"\"\n",
      "           Initiates an object from the argument list to perform FEA solution on the following\n",
      "           \n",
      "               -\\frac{d}{dx} \\left[ a \\frac{du}{dx} \\right] + c u - f = 0 \\\\\n",
      "               \n",
      "               \\text{for} \\quad 0 < x < L, \\\\\n",
      "               \n",
      "               \\text{with} u(0) = u_0 \\quad \\\\\n",
      "               \n",
      "               \\text{and} \\quad \\left[ a \\frac{du}{dx} \\right]_{x=L} = Q_0\n",
      "           \n",
      "           \n",
      "           assigns the following default properties if none are given in the argument list\n",
      "           \n",
      "           input: nodes - list of node locations, ex. [0, 1.2, 4.7, 8]\n",
      "           input (optional): a - function of x (default = 1)\n",
      "           input (optional): c - function of x (default = 0)\n",
      "           input (optional): f - function of x (default = 0)\n",
      "           input (optional): u0 - essential boundary conditional at x = 0 (default = 0)\n",
      "           input (optional): Q0 - natural boundary condition at x = L (default = 1)\n",
      "           \n",
      "           output: u at the node locations\n",
      "        \"\"\"\n",
      "        \n",
      "        self.nodes = np.array(nodes, dtype=np.double)\n",
      "        self.a = a\n",
      "        self.c = c\n",
      "        self.f = f\n",
      "        self.u0 = u0\n",
      "        self.Q0 = Q0\n",
      "        \n",
      "        self.K = np.zeros((len(self.nodes), len(self.nodes)))\n",
      "        self.F = np.zeros(len(self.nodes))\n",
      "        \n",
      "    def N1(self, x):\n",
      "        \"\"\"Computes the first linear shape function\"\"\"\n",
      "        nodes = self.nodes\n",
      "        return (x - nodes[1:]) / (nodes[:-1] - nodes[1:])\n",
      "    \n",
      "    def N2(self, x):\n",
      "        \"\"\"Computes the second linear shape function\"\"\"\n",
      "        nodes = self.nodes\n",
      "        return (nodes[:-1] - x) / (nodes[:-1] - nodes[1:])\n",
      "    \n",
      "    def dN1dx(self, x):\n",
      "        \"\"\"Computes the derivative of the first linear shape function\"\"\"\n",
      "        nodes = self.nodes\n",
      "        return 1 / (nodes[:-1] - nodes[1:])\n",
      "    \n",
      "    def dN2dx(self, x):\n",
      "        \"\"\"Computes the derivative of the second linear shape function\"\"\"\n",
      "        nodes = self.nodes\n",
      "        return 1 / (nodes[1:] - nodes[:-1])\n",
      "    \n",
      "    def compute_element_stiffness_and_force(self):\n",
      "        \"\"\"\n",
      "           Computes the components of the element stiffness matrix and\n",
      "           element nodal forces for all elements\n",
      "        \"\"\"\n",
      "        \n",
      "        nodes = self.nodes\n",
      "        \n",
      "        #We will use Gauss integration at the following points\n",
      "        t1 =  np.sqrt(1.0 / 3.0)\n",
      "        t2 = -np.sqrt(1.0 / 3.0)\n",
      "        \n",
      "        #Because the points above are defined on the domain -1 < x < 1 and our\n",
      "        #elements are defined on arbitrary domains, we can use a change of variables\n",
      "        #to rescale the integration bounds\n",
      "        x1 = ((nodes[1:] - nodes[:-1]) * t1 + nodes[1:] + nodes[:-1]) / 2.0\n",
      "        x2 = ((nodes[1:] - nodes[:-1]) * t2 + nodes[1:] + nodes[:-1]) / 2.0\n",
      "        \n",
      "        #Evaluating the shape functions and thier derivatives at each Gauss \n",
      "        #integration point.\n",
      "        N1x1 = self.N1(x1)\n",
      "        N2x1 = self.N2(x1)\n",
      "        dN1dx1 = self.dN1dx(x1)\n",
      "        dN2dx1 = self.dN2dx(x1)\n",
      "        \n",
      "        N1x2 = self.N1(x2)\n",
      "        N2x2 = self.N2(x2)\n",
      "        dN1dx2 = self.dN1dx(x2)\n",
      "        dN2dx2 = self.dN2dx(x2)\n",
      "        \n",
      "        #Same for the functions\n",
      "        a1 = self.a(x1)\n",
      "        a2 = self.a(x2)\n",
      "        c1 = self.c(x1)\n",
      "        c2 = self.c(x2)\n",
      "        f1 = self.f(x1)\n",
      "        f2 = self.f(x2)\n",
      "        \n",
      "        #Now we evaluate the element stiffness matrix components, the 0.5*(b-a) term out front\n",
      "        #is due to the change of variables\n",
      "        self.k11 = (nodes[1:] - nodes[:-1]) / 2 * (a1 * dN1dx1 * dN1dx1 + a2 * dN1dx2 * dN1dx2 + \n",
      "                                                   c1 * N1x1 * N1x1 + c2 * N1x2 * N1x2)\n",
      "        self.k12 = (nodes[1:] - nodes[:-1]) / 2 * (a1 * dN1dx1 * dN2dx1 + a2 * dN1dx2 * dN2dx2 + \n",
      "                                                   c1 * N1x1 * N2x1 + c2 * N1x2 * N2x2)\n",
      "        self.k21 = (nodes[1:] - nodes[:-1]) / 2 * (a1 * dN2dx1 * dN1dx1 + a2 * dN2dx2 * dN1dx2 + \n",
      "                                                   c1 * N2x1 * N1x1 + c2 * N2x2 * N1x2)\n",
      "        self.k22 = (nodes[1:] - nodes[:-1]) / 2 * (a1 * dN2dx1 * dN2dx1 + a2 * dN2dx2 * dN2dx2 + \n",
      "                                                   c1 * N2x1 * N2x1 + c2 * N2x2 * N2x2)\n",
      "        #Same for the element force vector components\n",
      "        self.fe1 =  (nodes[1:] - nodes[:-1]) / 2 * (f1 * N1x1 + f2 * N1x2)\n",
      "        self.fe2 =  (nodes[1:] - nodes[:-1]) / 2 * (f1 * N2x1 + f2 * N2x2)\n",
      "        \n",
      "        \n",
      "    def assemble(self):\n",
      "        \"\"\"\n",
      "           Assembles the global stiffness matrix and force vector\n",
      "        \"\"\"\n",
      "        self.K += np.diag(np.r_[self.k11, 0.0])\n",
      "        self.K += np.diag(np.r_[0.0, self.k22])\n",
      "        self.K += np.diag(self.k12, k=1)\n",
      "        self.K += np.diag(self.k21, k=-1)\n",
      "        \n",
      "        self.F[:-1] += self.fe1\n",
      "        self.F[1:]  += self.fe2\n",
      "        \n",
      "        \n",
      "    def apply_bcs(self):\n",
      "        \"\"\"\n",
      "           Applies essential and natural boundary conditions\n",
      "        \"\"\"\n",
      "        \n",
      "        row = np.zeros(len(self.nodes))\n",
      "        row[0] = 1.0\n",
      "        \n",
      "        self.K[0] = row\n",
      "        self.F[0] = self.u0\n",
      "        \n",
      "        self.F[-1] += self.Q0\n",
      "        \n",
      "        \n",
      "    def solve(self):\n",
      "        \"\"\"\n",
      "           Solves the one-dimensional finite element problem.\n",
      "        \"\"\"\n",
      "        self.compute_element_stiffness_and_force()\n",
      "        self.assemble()\n",
      "        self.apply_bcs()\n",
      "        \n",
      "        return scipy.linalg.solve(self.K, self.F)"
     ],
     "language": "python",
     "metadata": {},
     "outputs": [],
     "prompt_number": 1
    },
    {
     "cell_type": "markdown",
     "metadata": {},
     "source": [
      "Now we can solve the three verification problems above to test the code."
     ]
    },
    {
     "cell_type": "code",
     "collapsed": false,
     "input": [
      "nodes1 = [0.0, 0.25, 0.50, 0.75, 1.00]\n",
      "problem1 = OneDimFEA(nodes1, a=lambda x: 1 - x / 2)\n",
      "problem1.solve()"
     ],
     "language": "python",
     "metadata": {},
     "outputs": [
      {
       "metadata": {},
       "output_type": "pyout",
       "prompt_number": 2,
       "text": [
        "array([ 0.        ,  0.26666667,  0.57435897,  0.93799534,  1.38243978])"
       ]
      }
     ],
     "prompt_number": 2
    },
    {
     "cell_type": "code",
     "collapsed": false,
     "input": [
      "nodes2 = [0.0, 0.40, 0.60, 0.65, 0.70, 1.00]\n",
      "problem2 = OneDimFEA(nodes2, a=lambda x: 1 - x / 2, c=lambda x: x, f=lambda x: x)\n",
      "problem2.solve()"
     ],
     "language": "python",
     "metadata": {},
     "outputs": [
      {
       "metadata": {},
       "output_type": "pyout",
       "prompt_number": 3,
       "text": [
        "array([ 0.        ,  0.46664198,  0.73192414,  0.80263868,  0.87554074,\n",
        "        1.3816222 ])"
       ]
      }
     ],
     "prompt_number": 3
    },
    {
     "cell_type": "code",
     "collapsed": false,
     "input": [
      "nodes3 = [1, 2, 3, 4]\n",
      "problem3 = OneDimFEA(nodes3, a=lambda x: 1 , f=lambda x: x ** 2, Q0=2)\n",
      "problem3.solve()"
     ],
     "language": "python",
     "metadata": {},
     "outputs": [
      {
       "metadata": {},
       "output_type": "pyout",
       "prompt_number": 4,
       "text": [
        "array([  0.        ,  22.08333333,  40.        ,  48.75      ])"
       ]
      }
     ],
     "prompt_number": 4
    },
    {
     "cell_type": "markdown",
     "metadata": {},
     "source": [
      "## (b) 20 points\n",
      "\n",
      "A one-dimensional heterogenuous porous medium of length $L=1$ m, has a steady state pressure distribution as shown in the following table.  \n",
      "\n",
      "|$x$ (m)|$p(x)$ ($\\times$ kPa)|\n",
      "|---|------|\n",
      "|0.00|100.0|\n",
      "|0.05|100.005|\n",
      "|0.10|100.010|\n",
      "|0.15|100.014|\n",
      "|0.20|100.018|\n",
      "|0.25|100.021|\n",
      "|0.30|100.024|\n",
      "|0.35|100.026|\n",
      "|0.40|100.029|\n",
      "|0.45|100.030|\n",
      "|0.50|100.032|\n",
      "|0.55|100.033|\n",
      "|0.60|100.034|\n",
      "|0.65|100.035|\n",
      "|0.70|100.036|\n",
      "|0.75|100.037|\n",
      "|0.80|100.038|\n",
      "|0.85|100.038|\n",
      "|0.90|100.039|\n",
      "|0.95|100.040|\n",
      "|1.00|100.040|\n",
      "\n",
      "\n",
      "The porous media is subject to the a constant pressure a $x=0$ of $p = 100$ kPa and an exit flow rate of $Q = 100$ m/s is measured. \n",
      "\n",
      "Use the code developed in part (a) to help you estimate what the permiablity $\\kappa(x)$ this material.  You can use a consant viscosity of $\\mu = 1$ Pa$\\cdot$s. Clearly indicate your answer and explain your approach (preferably with plots).  The total diffusivity coefficient is $K = \\frac{\\kappa}{\\mu}$.\n",
      "\n",
      "**Note:**  Submit a working version of your code to [Canvas](https://utexas.instructure.com/courses/1119539).  Any supplemental material explaining your answer in part (b) can be turned in to me via hard copy or scanned and submitted to Canvas with your code."
     ]
    },
    {
     "cell_type": "markdown",
     "metadata": {},
     "source": [
      "**Solution**\n",
      "\n",
      "Below we define our objective function which is to minimize the $L_2$-norm of the difference between the pressure output by our FE code and the known pressure published above at the node ($x$) location."
     ]
    },
    {
     "cell_type": "code",
     "collapsed": false,
     "input": [
      "def objective_fun(c, nodes, p):\n",
      "    \"\"\"\n",
      "       Computes the objective function for minimization.\n",
      "       \n",
      "       input: c - the initial guess for the optimization routine, i.e. the coefficients\n",
      "                  of the polynomial which is of quadratic form\n",
      "       input: nodes - the nodal locations, needed for the FE code\n",
      "       input: p - the known pressures\n",
      "       \n",
      "       output: the scalar output to minimize\n",
      "    \"\"\"\n",
      " \n",
      "    \n",
      "    problem = OneDimFEA(nodes, \n",
      "                        a=lambda x: c[0] + c[1] * x + c[2] * x ** 2, \n",
      "                        u0=100000, \n",
      "                        Q0=100)\n",
      "    \n",
      "    sol = problem.solve().flatten()\n",
      "    \n",
      "    return np.linalg.norm(sol - p)"
     ],
     "language": "python",
     "metadata": {},
     "outputs": [],
     "prompt_number": 5
    },
    {
     "cell_type": "code",
     "collapsed": false,
     "input": [
      "import scipy.optimize\n",
      "\n",
      "#Create the nodal array and define the known pressures from the problem statement\n",
      "nodes = np.linspace(0,1,num=21)\n",
      "p = np.array([100.000, 100.005, 100.010, 100.014, 100.018, 100.021, 100.024, 100.026, \n",
      "              100.029, 100.030, 100.032, 100.033, 100.034, 100.035, 100.036, \n",
      "              100.037, 100.038 ,100.038, 100.039, 100.040, 100.040], dtype=np.double) * 1000\n",
      "\n",
      "#Run the optimization routine\n",
      "res = scipy.optimize.minimize(objective_fun, [1,1,1],args=(nodes,p), method='Nelder-Mead');\n",
      "#Extract the solution\n",
      "c = res.x\n",
      "print res"
     ],
     "language": "python",
     "metadata": {},
     "outputs": [
      {
       "output_type": "stream",
       "stream": "stdout",
       "text": [
        "  status: 0\n",
        "    nfev: 257\n",
        " success: True\n",
        "     fun: 1.1269859126089785\n",
        "       x: array([ 0.95633747,  0.57572211,  8.93686525])\n",
        " message: 'Optimization terminated successfully.'\n",
        "     nit: 145\n"
       ]
      }
     ],
     "prompt_number": 8
    },
    {
     "cell_type": "code",
     "collapsed": false,
     "input": [
      "#Plot the results\n",
      "%matplotlib inline\n",
      "import matplotlib.pyplot as plt\n",
      "\n",
      "problem = OneDimFEA(nodes, \n",
      "                    a=lambda x: c[0] + c[1] * x + c[2] * x ** 2, \n",
      "                    u0=100000, \n",
      "                    Q0=100)\n",
      "    \n",
      "sol = problem.solve().flatten()\n",
      "\n",
      "plt.plot(nodes, p / 1000, 'k-', nodes, sol / 1000, 'r-');\n",
      "plt.xlabel('$x$ (m)')\n",
      "plt.ylabel('$p$ (kPa)')\n",
      "plt.grid()"
     ],
     "language": "python",
     "metadata": {},
     "outputs": [
      {
       "metadata": {},
       "output_type": "display_data",
       "png": "[encoded data removed]",
       "text": [
        "<matplotlib.figure.Figure at 0x10e18ef90>"
       ]
      }
     ],
     "prompt_number": 7
    },
    {
     "cell_type": "markdown",
     "metadata": {},
     "source": [
      "The fit looks pretty good, so an acceptable answer is:\n",
      "\n",
      "$$\n",
      "\\kappa(x) = 0.96 + 0.58 x + 8.94 x^2\n",
      "$$"
     ]
    }
   ],
   "metadata": {}
  }
 ]
}